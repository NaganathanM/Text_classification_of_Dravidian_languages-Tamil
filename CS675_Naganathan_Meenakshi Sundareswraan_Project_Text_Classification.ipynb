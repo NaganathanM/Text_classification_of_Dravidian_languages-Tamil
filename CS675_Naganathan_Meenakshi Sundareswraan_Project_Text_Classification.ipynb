{
 "cells": [
  {
   "cell_type": "markdown",
   "metadata": {},
   "source": [
    "# Text Classification of Dravidian languages - Tamil"
   ]
  },
  {
   "cell_type": "code",
   "execution_count": 81,
   "metadata": {
    "id": "8nTN_zJkBbWQ"
   },
   "outputs": [],
   "source": [
    "import string\n",
    "import re\n",
    "import nltk\n",
    "import numpy as np\n",
    "import pandas as pd"
   ]
  },
  {
   "cell_type": "code",
   "execution_count": 25,
   "metadata": {
    "colab": {
     "base_uri": "https://localhost:8080/"
    },
    "id": "i4Jo7LBbDSCm",
    "outputId": "1fe63ef8-f291-4ef9-fe43-6908996de293"
   },
   "outputs": [
    {
     "name": "stdout",
     "output_type": "stream",
     "text": [
      "அணு மூலக்கூறு ஒளி இயற்பியல் என்பது பருப்பொருள்பருப்பொருள் மற்றும் ஒளிக்கற்றைபருப்பொருள் இடையேயான தொடர்புகள் மற்றும் இடைவினைகளை விவரிக்கும் இயற்பியலின் ஒரு துறை ஆகும் இந்த இடைவிளைவுகள் ஒரு சில அணுக்களுக்கு இடையே அமைவதாகும் பொதுவாக இந்த இடைவினைகளால் ஏற்படும் ஆற்றலானது இலத்திரன்வோல்ட்டில் அளக்கப்படுகிறது\n"
     ]
    }
   ],
   "source": [
    "def punctuation_removal(tamil_text): \n",
    "    punctuation_removed_words =\"\".join([t for t in tamil_text if t not in string.punctuation])  \n",
    "    return punctuation_removed_words\n",
    "#sentence of Tamil text (https://ta.wikipedia.org/wiki/%E0%AE%85%E0%AE%A3%E0%AF%81,_%E0%AE%AE%E0%AF%82%E0%AE%B2%E0%AE%95%E0%AF%8D%E0%AE%95%E0%AF%82%E0%AE%B1%E0%AF%81,_%E0%AE%92%E0%AE%B3%E0%AE%BF_%E0%AE%87%E0%AE%AF%E0%AE%B1%E0%AF%8D%E0%AE%AA%E0%AE%BF%E0%AE%AF%E0%AE%B2%E0%AF%8D)\n",
    "#with punctuation laoded and the punctuations are removed\n",
    "words_without_punctuation = punctuation_removal(\"அணு, மூலக்கூறு, ஒளி இயற்பியல் என்பது பருப்பொருள்-பருப்பொருள் மற்றும் ஒளிக்கற்றை-பருப்பொருள் இடையேயான தொடர்புகள் மற்றும் இடைவினைகளை விவரிக்கும் இயற்பியலின் ஒரு துறை ஆகும். இந்த இடைவிளைவுகள் ஒரு சில அணுக்களுக்கு இடையே அமைவதாகும். பொதுவாக இந்த இடைவினைகளால் ஏற்படும் ஆற்றலானது இலத்திரன்வோல்ட்டில் அளக்கப்படுகிறது\")\n",
    "print(words_without_punctuation) "
   ]
  },
  {
   "cell_type": "code",
   "execution_count": 26,
   "metadata": {},
   "outputs": [
    {
     "name": "stdout",
     "output_type": "stream",
     "text": [
      "['அணு', 'மூலக்கூறு', 'ஒளி', 'இயற்பியல்', 'என்பது', 'பருப்பொருள்பருப்பொருள்', 'மற்றும்', 'ஒளிக்கற்றைபருப்பொருள்', 'இடையேயான', 'தொடர்புகள்', 'மற்றும்', 'இடைவினைகளை', 'விவரிக்கும்', 'இயற்பியலின்', 'ஒரு', 'துறை', 'ஆகும்', 'இந்த', 'இடைவிளைவுகள்', 'ஒரு', 'சில', 'அணுக்களுக்கு', 'இடையே', 'அமைவதாகும்', 'பொதுவாக', 'இந்த', 'இடைவினைகளால்', 'ஏற்படும்', 'ஆற்றலானது', 'இலத்திரன்வோல்ட்டில்', 'அளக்கப்படுகிறது']\n"
     ]
    }
   ],
   "source": [
    "def tokenization_of_words(tamil_text):\n",
    "    t_words = re.split(\" \",tamil_text)\n",
    "    return t_words\n",
    "tokenized_words = tokenization_of_words(words_without_punctuation)\n",
    "print(tokenized_words)"
   ]
  },
  {
   "cell_type": "code",
   "execution_count": 27,
   "metadata": {},
   "outputs": [
    {
     "name": "stdout",
     "output_type": "stream",
     "text": [
      "அணு மூலக்கூறு ஒளி இயற்பியல் பருப்பொருள்பருப்பொருள் ஒளிக்கற்றைபருப்பொருள் இடையேயான தொடர்புகள் இடைவினைகளை விவரிக்கும் இயற்பியலின் துறை இடைவிளைவுகள் அணுக்களுக்கு இடையே அமைவதாகும் பொதுவாக இடைவினைகளால் ஏற்படும் ஆற்றலானது இலத்திரன்வோல்ட்டில் அளக்கப்படுகிறது "
     ]
    }
   ],
   "source": [
    "stop_words = nltk.corpus.stopwords.words(\"tamil\")\n",
    "def stop_words_removal(tamil_text):\n",
    "    words_removed = \" \".join([t for t in tamil_text if t not in stop_words])\n",
    "    return words_removed\n",
    "stop_words_removed = stop_words_removal(tokenized_words)\n",
    "print(stop_words_removed, end=' ')"
   ]
  },
  {
   "cell_type": "code",
   "execution_count": 22,
   "metadata": {
    "scrolled": true
   },
   "outputs": [
    {
     "data": {
      "text/plain": [
       "\"\\n!pip install -U googletrans==3.1.0a\\n#pip install googletrans==3.1.0a\\nfrom googletrans import Translator\\ntranslator = Translator()\\ndetected_language = translator.translate('வணக்கம்')\\ndetected_language.src\\n\""
      ]
     },
     "execution_count": 22,
     "metadata": {},
     "output_type": "execute_result"
    }
   ],
   "source": [
    "\"\"\"\n",
    "#pip install googletrans==3.1.0a\n",
    "#!pip install -U googletrans==3.1.0a\n",
    "from googletrans import Translator\n",
    "translator = Translator()\n",
    "detected_language = translator.translate('வணக்கம்')\n",
    "detected_language.src\n",
    "***Could not run the code in Jupyter notebook despite trying to update googletrans package. A constant 'Attribute error' persisted.\n",
    "However, the same was eliminated when the code was run in local Python IDLE***\n",
    "\"\"\""
   ]
  },
  {
   "cell_type": "code",
   "execution_count": 107,
   "metadata": {},
   "outputs": [
    {
     "name": "stdout",
     "output_type": "stream",
     "text": [
      "                                                text language\n",
      "0  பேருதான் விஷால், உடம்பெல்லாம் விஷம்: தாணு காட்டம்    tamil\n",
      "1                   பிக் பாஸ் வீட்டிற்குப் புது வரவு    tamil\n",
      "2  பண மோசடி: ’பேட் மேன்’ பட தயாரிப்பாளர் பிரேர்னா...    tamil\n",
      "3        சென்சார் போர்ட் மீது வித்யா பாலன் விமர்சனம்    tamil\n",
      "4  நாளை 2-வது ஒரு நாள் போட்டி: மீண்டும் அசத்துமா ...    tamil\n"
     ]
    }
   ],
   "source": [
    "df_dataset = pd.read_csv(r'C:\\Users\\Naganathan Vijay\\Tamil_NLP_project\\CS675_project_Data\\train_data\\train_dataset_5.csv')\n",
    "print(df_dataset.head())"
   ]
  },
  {
   "cell_type": "code",
   "execution_count": 108,
   "metadata": {},
   "outputs": [
    {
     "name": "stdout",
     "output_type": "stream",
     "text": [
      "tamil      3000\n",
      "english    1800\n",
      "Name: language, dtype: int64\n"
     ]
    }
   ],
   "source": [
    "print(df_dataset.language.value_counts())"
   ]
  },
  {
   "cell_type": "code",
   "execution_count": 109,
   "metadata": {},
   "outputs": [
    {
     "data": {
      "text/html": [
       "<div>\n",
       "<style scoped>\n",
       "    .dataframe tbody tr th:only-of-type {\n",
       "        vertical-align: middle;\n",
       "    }\n",
       "\n",
       "    .dataframe tbody tr th {\n",
       "        vertical-align: top;\n",
       "    }\n",
       "\n",
       "    .dataframe thead th {\n",
       "        text-align: right;\n",
       "    }\n",
       "</style>\n",
       "<table border=\"1\" class=\"dataframe\">\n",
       "  <thead>\n",
       "    <tr style=\"text-align: right;\">\n",
       "      <th></th>\n",
       "      <th>text</th>\n",
       "      <th>language</th>\n",
       "      <th>classify</th>\n",
       "    </tr>\n",
       "  </thead>\n",
       "  <tbody>\n",
       "    <tr>\n",
       "      <th>0</th>\n",
       "      <td>பேருதான் விஷால், உடம்பெல்லாம் விஷம்: தாணு காட்டம்</td>\n",
       "      <td>tamil</td>\n",
       "      <td>1</td>\n",
       "    </tr>\n",
       "    <tr>\n",
       "      <th>1</th>\n",
       "      <td>பிக் பாஸ் வீட்டிற்குப் புது வரவு</td>\n",
       "      <td>tamil</td>\n",
       "      <td>1</td>\n",
       "    </tr>\n",
       "    <tr>\n",
       "      <th>2</th>\n",
       "      <td>பண மோசடி: ’பேட் மேன்’ பட தயாரிப்பாளர் பிரேர்னா...</td>\n",
       "      <td>tamil</td>\n",
       "      <td>1</td>\n",
       "    </tr>\n",
       "    <tr>\n",
       "      <th>3</th>\n",
       "      <td>சென்சார் போர்ட் மீது வித்யா பாலன் விமர்சனம்</td>\n",
       "      <td>tamil</td>\n",
       "      <td>1</td>\n",
       "    </tr>\n",
       "    <tr>\n",
       "      <th>4</th>\n",
       "      <td>நாளை 2-வது ஒரு நாள் போட்டி: மீண்டும் அசத்துமா ...</td>\n",
       "      <td>tamil</td>\n",
       "      <td>1</td>\n",
       "    </tr>\n",
       "  </tbody>\n",
       "</table>\n",
       "</div>"
      ],
      "text/plain": [
       "                                                text language  classify\n",
       "0  பேருதான் விஷால், உடம்பெல்லாம் விஷம்: தாணு காட்டம்    tamil         1\n",
       "1                   பிக் பாஸ் வீட்டிற்குப் புது வரவு    tamil         1\n",
       "2  பண மோசடி: ’பேட் மேன்’ பட தயாரிப்பாளர் பிரேர்னா...    tamil         1\n",
       "3        சென்சார் போர்ட் மீது வித்யா பாலன் விமர்சனம்    tamil         1\n",
       "4  நாளை 2-வது ஒரு நாள் போட்டி: மீண்டும் அசத்துமா ...    tamil         1"
      ]
     },
     "execution_count": 109,
     "metadata": {},
     "output_type": "execute_result"
    }
   ],
   "source": [
    "df_dataset['classify'] = df_dataset.language.map({'english':0, 'tamil': 1})\n",
    "df_dataset.head()"
   ]
  },
  {
   "cell_type": "code",
   "execution_count": 110,
   "metadata": {},
   "outputs": [
    {
     "name": "stdout",
     "output_type": "stream",
     "text": [
      "(4800,)\n",
      "(4800,)\n"
     ]
    }
   ],
   "source": [
    "X = df_dataset.language\n",
    "y = df_dataset.classify\n",
    "print(X.shape)\n",
    "print(y.shape)"
   ]
  },
  {
   "cell_type": "code",
   "execution_count": 111,
   "metadata": {},
   "outputs": [
    {
     "name": "stdout",
     "output_type": "stream",
     "text": [
      "X_train:  (3600,)\n",
      "X_test:  (1200,)\n",
      "y_train:  (3600,)\n",
      "y_test:  (1200,)\n"
     ]
    }
   ],
   "source": [
    "from sklearn.model_selection import train_test_split\n",
    "X_train, X_test, y_train, y_test = train_test_split(X, y, random_state=0)\n",
    "print(\"X_train: \", X_train.shape)\n",
    "print(\"X_test: \", X_test.shape)\n",
    "print(\"y_train: \", y_train.shape)\n",
    "print(\"y_test: \", y_test.shape)"
   ]
  },
  {
   "cell_type": "code",
   "execution_count": 112,
   "metadata": {},
   "outputs": [
    {
     "name": "stdout",
     "output_type": "stream",
     "text": [
      "  (0, 1)\t1\n",
      "  (1, 0)\t1\n",
      "  (2, 0)\t1\n",
      "  (3, 0)\t1\n",
      "  (4, 0)\t1\n",
      "  (5, 1)\t1\n",
      "  (6, 1)\t1\n",
      "  (7, 1)\t1\n",
      "  (8, 1)\t1\n",
      "  (9, 1)\t1\n",
      "  (10, 0)\t1\n",
      "  (11, 0)\t1\n",
      "  (12, 0)\t1\n",
      "  (13, 1)\t1\n",
      "  (14, 0)\t1\n",
      "  (15, 0)\t1\n",
      "  (16, 0)\t1\n",
      "  (17, 1)\t1\n",
      "  (18, 1)\t1\n",
      "  (19, 1)\t1\n",
      "  (20, 1)\t1\n",
      "  (21, 0)\t1\n",
      "  (22, 1)\t1\n",
      "  (23, 0)\t1\n",
      "  (24, 0)\t1\n",
      "  :\t:\n",
      "  (3575, 0)\t1\n",
      "  (3576, 1)\t1\n",
      "  (3577, 1)\t1\n",
      "  (3578, 1)\t1\n",
      "  (3579, 1)\t1\n",
      "  (3580, 1)\t1\n",
      "  (3581, 1)\t1\n",
      "  (3582, 1)\t1\n",
      "  (3583, 1)\t1\n",
      "  (3584, 1)\t1\n",
      "  (3585, 0)\t1\n",
      "  (3586, 1)\t1\n",
      "  (3587, 1)\t1\n",
      "  (3588, 0)\t1\n",
      "  (3589, 1)\t1\n",
      "  (3590, 1)\t1\n",
      "  (3591, 0)\t1\n",
      "  (3592, 1)\t1\n",
      "  (3593, 0)\t1\n",
      "  (3594, 1)\t1\n",
      "  (3595, 1)\t1\n",
      "  (3596, 0)\t1\n",
      "  (3597, 1)\t1\n",
      "  (3598, 0)\t1\n",
      "  (3599, 0)\t1\n",
      "  (0, 1)\t1\n",
      "  (1, 1)\t1\n",
      "  (2, 0)\t1\n",
      "  (3, 1)\t1\n",
      "  (4, 1)\t1\n",
      "  (5, 1)\t1\n",
      "  (6, 1)\t1\n",
      "  (7, 1)\t1\n",
      "  (8, 1)\t1\n",
      "  (9, 0)\t1\n",
      "  (10, 1)\t1\n",
      "  (11, 0)\t1\n",
      "  (12, 1)\t1\n",
      "  (13, 1)\t1\n",
      "  (14, 1)\t1\n",
      "  (15, 1)\t1\n",
      "  (16, 1)\t1\n",
      "  (17, 0)\t1\n",
      "  (18, 0)\t1\n",
      "  (19, 1)\t1\n",
      "  (20, 1)\t1\n",
      "  (21, 0)\t1\n",
      "  (22, 0)\t1\n",
      "  (23, 1)\t1\n",
      "  (24, 0)\t1\n",
      "  :\t:\n",
      "  (1175, 0)\t1\n",
      "  (1176, 1)\t1\n",
      "  (1177, 1)\t1\n",
      "  (1178, 1)\t1\n",
      "  (1179, 1)\t1\n",
      "  (1180, 1)\t1\n",
      "  (1181, 1)\t1\n",
      "  (1182, 0)\t1\n",
      "  (1183, 1)\t1\n",
      "  (1184, 1)\t1\n",
      "  (1185, 0)\t1\n",
      "  (1186, 1)\t1\n",
      "  (1187, 0)\t1\n",
      "  (1188, 1)\t1\n",
      "  (1189, 0)\t1\n",
      "  (1190, 0)\t1\n",
      "  (1191, 0)\t1\n",
      "  (1192, 1)\t1\n",
      "  (1193, 0)\t1\n",
      "  (1194, 1)\t1\n",
      "  (1195, 0)\t1\n",
      "  (1196, 1)\t1\n",
      "  (1197, 0)\t1\n",
      "  (1198, 1)\t1\n",
      "  (1199, 1)\t1\n"
     ]
    }
   ],
   "source": [
    "from sklearn.feature_extraction.text import CountVectorizer\n",
    "vectorizer = CountVectorizer()\n",
    "X_train_array = vectorizer.fit_transform(X_train)\n",
    "X_test_array = vectorizer.transform(X_test)\n",
    "print(X_train_array)\n",
    "print(X_test_array)"
   ]
  },
  {
   "cell_type": "code",
   "execution_count": 113,
   "metadata": {},
   "outputs": [
    {
     "data": {
      "text/plain": [
       "array([1, 1, 0, ..., 0, 1, 1], dtype=int64)"
      ]
     },
     "execution_count": 113,
     "metadata": {},
     "output_type": "execute_result"
    }
   ],
   "source": [
    "from sklearn.naive_bayes import MultinomialNB\n",
    "mnb = MultinomialNB()\n",
    "NB_model = mnb.fit(X_train_array,y_train)\n",
    "y_predicted = NB_model.predict(X_test_array)\n",
    "y_predicted"
   ]
  },
  {
   "cell_type": "code",
   "execution_count": 114,
   "metadata": {},
   "outputs": [
    {
     "data": {
      "image/png": "[encoded data removed]",
      "text/plain": [
       "<Figure size 432x288 with 1 Axes>"
      ]
     },
     "metadata": {
      "needs_background": "light"
     },
     "output_type": "display_data"
    },
    {
     "name": "stdout",
     "output_type": "stream",
     "text": [
      "Accuracy Score is:  1.0\n"
     ]
    }
   ],
   "source": [
    "from sklearn.metrics import classification_report, confusion_matrix, accuracy_score\n",
    "import seaborn as sns\n",
    "import matplotlib.pyplot as plt\n",
    "%matplotlib inline\n",
    "matrix = confusion_matrix(y_test,y_predicted)\n",
    "sns.heatmap(matrix.T, square = True, annot=True, fmt = \"d\", cbar = False)\n",
    "plt.xlabel(\"Actual classify\")\n",
    "plt.ylabel(\"Predicted classify\")\n",
    "plt.show()\n",
    "print(\"Accuracy Score is: \",round(accuracy_score(y_test, y_predicted),4))"
   ]
  },
  {
   "cell_type": "code",
   "execution_count": null,
   "metadata": {},
   "outputs": [],
   "source": []
  }
 ],
 "metadata": {
  "colab": {
   "name": "CS675_Project_Classification.ipynb",
   "provenance": []
  },
  "kernelspec": {
   "display_name": "Python 3 (ipykernel)",
   "language": "python",
   "name": "python3"
  },
  "language_info": {
   "codemirror_mode": {
    "name": "ipython",
    "version": 3
   },
   "file_extension": ".py",
   "mimetype": "text/x-python",
   "name": "python",
   "nbconvert_exporter": "python",
   "pygments_lexer": "ipython3",
   "version": "3.9.7"
  }
 },
 "nbformat": 4,
 "nbformat_minor": 1
}
